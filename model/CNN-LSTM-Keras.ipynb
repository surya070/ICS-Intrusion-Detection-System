{
 "cells": [
  {
   "cell_type": "code",
   "execution_count": 1,
   "id": "f2bb5540-7fe8-40e3-8e6c-837d6a74a233",
   "metadata": {},
   "outputs": [],
   "source": [
    "import numpy as np\n",
    "import pandas as pd\n",
    "from sklearn.model_selection import train_test_split\n",
    "from sklearn.metrics import accuracy_score, roc_auc_score, f1_score\n",
    "from tensorflow.keras.models import Sequential\n",
    "from tensorflow.keras.layers import Conv1D, LSTM, Dense, InputLayer, Activation\n",
    "from tensorflow.keras.callbacks import EarlyStopping, ModelCheckpoint"
   ]
  },
  {
   "cell_type": "code",
   "execution_count": 2,
   "id": "f9bc7c89-880b-4863-b972-3a5031bb04cf",
   "metadata": {},
   "outputs": [],
   "source": [
    "def create_sequences(df, features, seq_len):\n",
    "    X, y = [], []\n",
    "    data = df[features + ['label']].fillna(0).values.astype(np.float32)\n",
    "    for i in range(len(data) - seq_len):\n",
    "        X.append(data[i:i+seq_len, :-1])\n",
    "        y.append(data[i+seq_len-1, -1])\n",
    "    return np.array(X), np.array(y)"
   ]
  },
  {
   "cell_type": "code",
   "execution_count": null,
   "id": "27d1f3ed-c5fc-4802-ab10-25b20128869f",
   "metadata": {},
   "outputs": [],
   "source": [
    "# 2. Load and Prepare Data\n",
    "df = pd.read_csv(r'C:\\Surya\\RVU\\mahe-hackathon\\model\\modbus_packet_features_dpkt_labeled.csv')  # Use your filename\n",
    "direction_encoded = pd.get_dummies(df['direction'], prefix='direction')\n",
    "df = pd.concat([df.drop('direction', axis=1), direction_encoded], axis=1)\n",
    "features = ['length', 'modbus_func_code', 'unit_id', 'iat','transaction_id'] + list(direction_encoded.columns)\n",
    "SEQ_LEN = 10\n",
    "\n",
    "X, y = create_sequences(df, features, SEQ_LEN)\n",
    "X_train, X_test, y_train, y_test = train_test_split(X, y, test_size=0.2, random_state=42, shuffle=True)"
   ]
  },
  {
   "cell_type": "code",
   "execution_count": 6,
   "id": "508958c4-c0e4-4efd-bc7f-362ecd7e5df5",
   "metadata": {},
   "outputs": [],
   "source": [
    "# 3. Build CNN-LSTM Model in Keras\n",
    "model = Sequential([\n",
    "    InputLayer(shape=(SEQ_LEN, len(features))),\n",
    "    Conv1D(filters=32, kernel_size=3, padding='same', activation='relu'),\n",
    "    LSTM(64),\n",
    "    Dense(1, activation='sigmoid')\n",
    "])\n",
    "\n",
    "model.compile(optimizer='adam', loss='binary_crossentropy', metrics=['accuracy'])\n"
   ]
  },
  {
   "cell_type": "code",
   "execution_count": 7,
   "id": "0c9b96d6-59fc-4d30-bbc6-9512073df701",
   "metadata": {},
   "outputs": [],
   "source": [
    "# 4. Callbacks for Early Stopping & Model Saving\n",
    "callbacks = [\n",
    "    EarlyStopping(patience=3, restore_best_weights=True, verbose=1),\n",
    "    ModelCheckpoint('keras_cnn_lstm_model.h5', save_best_only=True, monitor='val_loss', verbose=1)\n",
    "]"
   ]
  },
  {
   "cell_type": "code",
   "execution_count": 11,
   "id": "9895c4db-e732-41dd-9ec1-763867e47fb8",
   "metadata": {},
   "outputs": [
    {
     "name": "stdout",
     "output_type": "stream",
     "text": [
      "Epoch 1/20\n",
      "\n",
      "Epoch 1: val_loss improved from inf to 0.01186, saving model to keras_cnn_lstm_model.h5\n"
     ]
    },
    {
     "name": "stderr",
     "output_type": "stream",
     "text": [
      "WARNING:absl:You are saving your model as an HDF5 file via `model.save()` or `keras.saving.save_model(model)`. This file format is considered legacy. We recommend using instead the native Keras format, e.g. `model.save('my_model.keras')` or `keras.saving.save_model(model, 'my_model.keras')`. \n"
     ]
    },
    {
     "name": "stdout",
     "output_type": "stream",
     "text": [
      "94499/94499 - 286s - 3ms/step - accuracy: 0.9983 - loss: 0.0118 - val_accuracy: 0.9984 - val_loss: 0.0119\n",
      "Epoch 2/20\n",
      "\n",
      "Epoch 2: val_loss did not improve from 0.01186\n",
      "94499/94499 - 285s - 3ms/step - accuracy: 0.9984 - loss: 0.0115 - val_accuracy: 0.9984 - val_loss: 0.0120\n",
      "Epoch 3/20\n",
      "\n",
      "Epoch 3: val_loss did not improve from 0.01186\n",
      "94499/94499 - 281s - 3ms/step - accuracy: 0.9984 - loss: 0.0119 - val_accuracy: 0.9984 - val_loss: 0.0120\n",
      "Epoch 4/20\n",
      "\n",
      "Epoch 4: val_loss did not improve from 0.01186\n",
      "94499/94499 - 281s - 3ms/step - accuracy: 0.9984 - loss: 0.0119 - val_accuracy: 0.9984 - val_loss: 0.0119\n",
      "Epoch 4: early stopping\n",
      "Restoring model weights from the end of the best epoch: 1.\n"
     ]
    }
   ],
   "source": [
    "# 5. Train Model\n",
    "history = model.fit(\n",
    "    X_train, y_train, \n",
    "    epochs=20,\n",
    "    batch_size=64,\n",
    "    validation_split=0.1,\n",
    "    callbacks=callbacks,\n",
    "    verbose=2\n",
    ")"
   ]
  },
  {
   "cell_type": "code",
   "execution_count": 12,
   "id": "fb410935-6630-42c0-9215-bb461e628714",
   "metadata": {},
   "outputs": [
    {
     "name": "stdout",
     "output_type": "stream",
     "text": [
      "\u001b[1m52500/52500\u001b[0m \u001b[32m━━━━━━━━━━━━━━━━━━━━\u001b[0m\u001b[37m\u001b[0m \u001b[1m58s\u001b[0m 1ms/step\n",
      "Test Accuracy: 0.9984\n",
      "Test F1-score: 0.9230\n",
      "Test ROC-AUC: 0.8919\n"
     ]
    }
   ],
   "source": [
    "# 6. Evaluate Model\n",
    "y_pred_prob = model.predict(X_test).ravel()\n",
    "y_pred = (y_pred_prob >= 0.5).astype('int')\n",
    "acc = accuracy_score(y_test, y_pred)\n",
    "f1 = f1_score(y_test, y_pred)\n",
    "try:\n",
    "    auc = roc_auc_score(y_test, y_pred_prob)\n",
    "except Exception:\n",
    "    auc = float('nan')\n",
    "print(f'Test Accuracy: {acc:.4f}')\n",
    "print(f'Test F1-score: {f1:.4f}')\n",
    "print(f'Test ROC-AUC: {auc:.4f}')"
   ]
  },
  {
   "cell_type": "code",
   "execution_count": null,
   "id": "20b550e1-3bc2-435d-9913-e6b3bc08575e",
   "metadata": {},
   "outputs": [],
   "source": []
  }
 ],
 "metadata": {
  "kernelspec": {
   "display_name": "Python 3 (ipykernel)",
   "language": "python",
   "name": "python3"
  },
  "language_info": {
   "codemirror_mode": {
    "name": "ipython",
    "version": 3
   },
   "file_extension": ".py",
   "mimetype": "text/x-python",
   "name": "python",
   "nbconvert_exporter": "python",
   "pygments_lexer": "ipython3",
   "version": "3.12.7"
  }
 },
 "nbformat": 4,
 "nbformat_minor": 5
}
